{
 "cells": [
  {
   "cell_type": "code",
   "execution_count": 1,
   "id": "c6a90975",
   "metadata": {},
   "outputs": [],
   "source": [
    "import pandas as pd\n",
    "\n",
    "train = pd.read_csv('./train.csv', index_col='id')\n",
    "test = pd.read_csv('./test.csv', index_col='id')\n",
    "submission = pd.read_csv('./sample_submission.csv', index_col='id')"
   ]
  },
  {
   "cell_type": "code",
   "execution_count": 2,
   "id": "6de3ccc9",
   "metadata": {},
   "outputs": [
    {
     "name": "stdout",
     "output_type": "stream",
     "text": [
      "<class 'pandas.core.frame.DataFrame'>\n",
      "Int64Index: 300000 entries, 0 to 299999\n",
      "Data columns (total 24 columns):\n",
      " #   Column  Non-Null Count   Dtype \n",
      "---  ------  --------------   ----- \n",
      " 0   bin_0   300000 non-null  int64 \n",
      " 1   bin_1   300000 non-null  int64 \n",
      " 2   bin_2   300000 non-null  int64 \n",
      " 3   bin_3   300000 non-null  object\n",
      " 4   bin_4   300000 non-null  object\n",
      " 5   nom_0   300000 non-null  object\n",
      " 6   nom_1   300000 non-null  object\n",
      " 7   nom_2   300000 non-null  object\n",
      " 8   nom_3   300000 non-null  object\n",
      " 9   nom_4   300000 non-null  object\n",
      " 10  nom_5   300000 non-null  object\n",
      " 11  nom_6   300000 non-null  object\n",
      " 12  nom_7   300000 non-null  object\n",
      " 13  nom_8   300000 non-null  object\n",
      " 14  nom_9   300000 non-null  object\n",
      " 15  ord_0   300000 non-null  int64 \n",
      " 16  ord_1   300000 non-null  object\n",
      " 17  ord_2   300000 non-null  object\n",
      " 18  ord_3   300000 non-null  object\n",
      " 19  ord_4   300000 non-null  object\n",
      " 20  ord_5   300000 non-null  object\n",
      " 21  day     300000 non-null  int64 \n",
      " 22  month   300000 non-null  int64 \n",
      " 23  target  300000 non-null  int64 \n",
      "dtypes: int64(7), object(17)\n",
      "memory usage: 57.2+ MB\n"
     ]
    }
   ],
   "source": [
    "train.info()"
   ]
  },
  {
   "cell_type": "code",
   "execution_count": 3,
   "id": "b6e0ba1e",
   "metadata": {},
   "outputs": [
    {
     "name": "stdout",
     "output_type": "stream",
     "text": [
      "<class 'pandas.core.frame.DataFrame'>\n",
      "Int64Index: 200000 entries, 300000 to 499999\n",
      "Data columns (total 23 columns):\n",
      " #   Column  Non-Null Count   Dtype \n",
      "---  ------  --------------   ----- \n",
      " 0   bin_0   200000 non-null  int64 \n",
      " 1   bin_1   200000 non-null  int64 \n",
      " 2   bin_2   200000 non-null  int64 \n",
      " 3   bin_3   200000 non-null  object\n",
      " 4   bin_4   200000 non-null  object\n",
      " 5   nom_0   200000 non-null  object\n",
      " 6   nom_1   200000 non-null  object\n",
      " 7   nom_2   200000 non-null  object\n",
      " 8   nom_3   200000 non-null  object\n",
      " 9   nom_4   200000 non-null  object\n",
      " 10  nom_5   200000 non-null  object\n",
      " 11  nom_6   200000 non-null  object\n",
      " 12  nom_7   200000 non-null  object\n",
      " 13  nom_8   200000 non-null  object\n",
      " 14  nom_9   200000 non-null  object\n",
      " 15  ord_0   200000 non-null  int64 \n",
      " 16  ord_1   200000 non-null  object\n",
      " 17  ord_2   200000 non-null  object\n",
      " 18  ord_3   200000 non-null  object\n",
      " 19  ord_4   200000 non-null  object\n",
      " 20  ord_5   200000 non-null  object\n",
      " 21  day     200000 non-null  int64 \n",
      " 22  month   200000 non-null  int64 \n",
      "dtypes: int64(6), object(17)\n",
      "memory usage: 36.6+ MB\n"
     ]
    }
   ],
   "source": [
    "test.info()"
   ]
  },
  {
   "cell_type": "markdown",
   "id": "942e92c2",
   "metadata": {},
   "source": [
    "#### Encoding"
   ]
  },
  {
   "cell_type": "code",
   "execution_count": 4,
   "id": "440455af",
   "metadata": {},
   "outputs": [
    {
     "name": "stdout",
     "output_type": "stream",
     "text": [
      "<class 'pandas.core.frame.DataFrame'>\n",
      "Int64Index: 500000 entries, 0 to 499999\n",
      "Data columns (total 23 columns):\n",
      " #   Column  Non-Null Count   Dtype \n",
      "---  ------  --------------   ----- \n",
      " 0   bin_0   500000 non-null  int64 \n",
      " 1   bin_1   500000 non-null  int64 \n",
      " 2   bin_2   500000 non-null  int64 \n",
      " 3   bin_3   500000 non-null  object\n",
      " 4   bin_4   500000 non-null  object\n",
      " 5   nom_0   500000 non-null  object\n",
      " 6   nom_1   500000 non-null  object\n",
      " 7   nom_2   500000 non-null  object\n",
      " 8   nom_3   500000 non-null  object\n",
      " 9   nom_4   500000 non-null  object\n",
      " 10  nom_5   500000 non-null  object\n",
      " 11  nom_6   500000 non-null  object\n",
      " 12  nom_7   500000 non-null  object\n",
      " 13  nom_8   500000 non-null  object\n",
      " 14  nom_9   500000 non-null  object\n",
      " 15  ord_0   500000 non-null  int64 \n",
      " 16  ord_1   500000 non-null  object\n",
      " 17  ord_2   500000 non-null  object\n",
      " 18  ord_3   500000 non-null  object\n",
      " 19  ord_4   500000 non-null  object\n",
      " 20  ord_5   500000 non-null  object\n",
      " 21  day     500000 non-null  int64 \n",
      " 22  month   500000 non-null  int64 \n",
      "dtypes: int64(6), object(17)\n",
      "memory usage: 91.6+ MB\n"
     ]
    }
   ],
   "source": [
    "all_data = pd.concat([train, test])\n",
    "all_data = all_data.drop('target', axis=1)\n",
    "all_data.info()"
   ]
  },
  {
   "cell_type": "code",
   "execution_count": 5,
   "id": "def0091e",
   "metadata": {},
   "outputs": [
    {
     "data": {
      "text/plain": [
       "<500000x16552 sparse matrix of type '<class 'numpy.float64'>'\n",
       "\twith 11500000 stored elements in Compressed Sparse Row format>"
      ]
     },
     "execution_count": 5,
     "metadata": {},
     "output_type": "execute_result"
    }
   ],
   "source": [
    "from sklearn.preprocessing import OneHotEncoder\n",
    "\n",
    "encoder = OneHotEncoder()\n",
    "all_data_encoded = encoder.fit_transform(all_data)\n",
    "all_data_encoded"
   ]
  },
  {
   "cell_type": "code",
   "execution_count": 6,
   "id": "e6921d7e",
   "metadata": {},
   "outputs": [],
   "source": [
    "num_train = train.shape[0]\n",
    "X_train = all_data_encoded[:num_train]\n",
    "X_test = all_data_encoded[num_train:]\n",
    "\n",
    "y = train['target']"
   ]
  },
  {
   "cell_type": "code",
   "execution_count": 7,
   "id": "204ec935",
   "metadata": {},
   "outputs": [],
   "source": [
    "from sklearn.model_selection import train_test_split\n",
    "\n",
    "X_train, X_valid, y_train, y_valid = train_test_split(X_train, y, test_size=0.1, stratify=y, random_state=10)"
   ]
  },
  {
   "cell_type": "markdown",
   "id": "5ea6cffc",
   "metadata": {},
   "source": [
    "#### 모델 훈련"
   ]
  },
  {
   "cell_type": "code",
   "execution_count": 8,
   "id": "0d3e174f",
   "metadata": {},
   "outputs": [
    {
     "data": {
      "text/plain": [
       "LogisticRegression(max_iter=1000, random_state=42)"
      ]
     },
     "execution_count": 8,
     "metadata": {},
     "output_type": "execute_result"
    }
   ],
   "source": [
    "from sklearn.linear_model import LogisticRegression\n",
    "\n",
    "logistic_model = LogisticRegression(max_iter = 1000, random_state=42)\n",
    "logistic_model.fit(X_train, y_train)"
   ]
  },
  {
   "cell_type": "code",
   "execution_count": 9,
   "id": "cebaacf5",
   "metadata": {},
   "outputs": [
    {
     "data": {
      "text/plain": [
       "array([[0.2327668 , 0.7672332 ],\n",
       "       [0.91413232, 0.08586768],\n",
       "       [0.8300637 , 0.1699363 ],\n",
       "       ...,\n",
       "       [0.2488492 , 0.7511508 ],\n",
       "       [0.49452136, 0.50547864],\n",
       "       [0.9566027 , 0.0433973 ]])"
      ]
     },
     "execution_count": 9,
     "metadata": {},
     "output_type": "execute_result"
    }
   ],
   "source": [
    "logistic_model.predict_proba(X_valid)"
   ]
  },
  {
   "cell_type": "code",
   "execution_count": 10,
   "id": "6064cfcb",
   "metadata": {},
   "outputs": [
    {
     "data": {
      "text/plain": [
       "array([1, 0, 0, ..., 1, 1, 0], dtype=int64)"
      ]
     },
     "execution_count": 10,
     "metadata": {},
     "output_type": "execute_result"
    }
   ],
   "source": [
    "logistic_model.predict(X_valid)"
   ]
  },
  {
   "cell_type": "code",
   "execution_count": 11,
   "id": "310b1004",
   "metadata": {},
   "outputs": [],
   "source": [
    "y_valid_preds = logistic_model.predict_proba(X_valid)[:,1]"
   ]
  },
  {
   "cell_type": "code",
   "execution_count": 12,
   "id": "45b27a62",
   "metadata": {},
   "outputs": [
    {
     "name": "stdout",
     "output_type": "stream",
     "text": [
      "검증 데이터 ROC AUC : 0.7965\n"
     ]
    }
   ],
   "source": [
    "from sklearn.metrics import roc_auc_score\n",
    "\n",
    "roc_auc = roc_auc_score(y_valid, y_valid_preds)\n",
    "print(f'검증 데이터 ROC AUC : {roc_auc:.4f}')"
   ]
  },
  {
   "cell_type": "code",
   "execution_count": 15,
   "id": "b74aabb4",
   "metadata": {},
   "outputs": [],
   "source": [
    "y_preds = logistic_model.predict_proba(X_test)[:,1]"
   ]
  },
  {
   "cell_type": "code",
   "execution_count": 16,
   "id": "0a64961d",
   "metadata": {},
   "outputs": [],
   "source": [
    "submission['target'] = y_preds\n",
    "submission.to_csv('submission.csv')"
   ]
  },
  {
   "cell_type": "code",
   "execution_count": null,
   "id": "82c40e3b",
   "metadata": {},
   "outputs": [],
   "source": []
  },
  {
   "cell_type": "code",
   "execution_count": null,
   "id": "392117e7",
   "metadata": {},
   "outputs": [],
   "source": []
  },
  {
   "cell_type": "code",
   "execution_count": null,
   "id": "c4a4d7e4",
   "metadata": {},
   "outputs": [],
   "source": []
  },
  {
   "cell_type": "code",
   "execution_count": null,
   "id": "29de45cd",
   "metadata": {},
   "outputs": [],
   "source": []
  },
  {
   "cell_type": "code",
   "execution_count": null,
   "id": "fe31473e",
   "metadata": {},
   "outputs": [],
   "source": []
  },
  {
   "cell_type": "code",
   "execution_count": null,
   "id": "6abe5bb8",
   "metadata": {},
   "outputs": [],
   "source": []
  },
  {
   "cell_type": "code",
   "execution_count": null,
   "id": "e186f6e5",
   "metadata": {},
   "outputs": [],
   "source": []
  },
  {
   "cell_type": "code",
   "execution_count": null,
   "id": "010c9e79",
   "metadata": {},
   "outputs": [],
   "source": []
  },
  {
   "cell_type": "code",
   "execution_count": null,
   "id": "cb0544e7",
   "metadata": {},
   "outputs": [],
   "source": []
  },
  {
   "cell_type": "code",
   "execution_count": null,
   "id": "c05daff0",
   "metadata": {},
   "outputs": [],
   "source": []
  },
  {
   "cell_type": "code",
   "execution_count": null,
   "id": "50c57e26",
   "metadata": {},
   "outputs": [],
   "source": []
  },
  {
   "cell_type": "code",
   "execution_count": null,
   "id": "e35e6458",
   "metadata": {},
   "outputs": [],
   "source": []
  },
  {
   "cell_type": "code",
   "execution_count": null,
   "id": "37536b49",
   "metadata": {},
   "outputs": [],
   "source": []
  },
  {
   "cell_type": "code",
   "execution_count": null,
   "id": "df8bb035",
   "metadata": {},
   "outputs": [],
   "source": []
  },
  {
   "cell_type": "code",
   "execution_count": null,
   "id": "ffe46ebc",
   "metadata": {},
   "outputs": [],
   "source": []
  }
 ],
 "metadata": {
  "kernelspec": {
   "display_name": "Python 3 (ipykernel)",
   "language": "python",
   "name": "python3"
  },
  "language_info": {
   "codemirror_mode": {
    "name": "ipython",
    "version": 3
   },
   "file_extension": ".py",
   "mimetype": "text/x-python",
   "name": "python",
   "nbconvert_exporter": "python",
   "pygments_lexer": "ipython3",
   "version": "3.9.7"
  }
 },
 "nbformat": 4,
 "nbformat_minor": 5
}
